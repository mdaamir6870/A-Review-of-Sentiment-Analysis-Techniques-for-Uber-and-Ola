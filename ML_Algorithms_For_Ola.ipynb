{
 "cells": [
  {
   "cell_type": "code",
   "execution_count": 3,
   "metadata": {},
   "outputs": [
    {
     "name": "stderr",
     "output_type": "stream",
     "text": [
      "[nltk_data] Downloading package vader_lexicon to\n",
      "[nltk_data]     C:\\Users\\yrmda\\AppData\\Roaming\\nltk_data...\n",
      "[nltk_data]   Package vader_lexicon is already up-to-date!\n"
     ]
    },
    {
     "name": "stdout",
     "output_type": "stream",
     "text": [
      "                 Tweet Id                                               Text  \\\n",
      "0      756346841973854209  Thank you for sending us your CRNs and showing...   \n",
      "1      756455385557446656  @AverageIntel @PokemonGoApp \\nWorry not, auto-...   \n",
      "2      756455843374075904                 #KabaliDay https://t.co/jdQFl284qW   \n",
      "3      756467451274027008  @suchetadalal We're in! Do let us know how we ...   \n",
      "4      756468982169821184                    @suchetadalal @MoneylifeF Done.   \n",
      "...                   ...                                                ...   \n",
      "2994  1112319234749521920  @AkashRa66 Leak ?? #OlaRestrooms #NoPressure h...   \n",
      "2995  1112319536852660225  @mahalakshmi3117 Wow, looks like theres a lea...   \n",
      "2996  1112319856760639488  @Arijit10Sinha #NoPressure #OlaRestrooms https...   \n",
      "2997  1112650634317029376  Thank you for laughing with us. While #OlaRest...   \n",
      "2998  1112781478583128064  Thank you for laughing with us. While #OlaRest...   \n",
      "\n",
      "     Name Screen Name                      Created At  Favorites  Retweets  \\\n",
      "0     Ola     Olacabs  Fri Jul 22 04:35:14 +0000 2016         23        14   \n",
      "1     Ola     Olacabs  Fri Jul 22 11:46:32 +0000 2016          3         0   \n",
      "2     Ola     Olacabs  Fri Jul 22 11:48:21 +0000 2016          9         2   \n",
      "3     Ola     Olacabs  Fri Jul 22 12:34:29 +0000 2016          0         0   \n",
      "4     Ola     Olacabs  Fri Jul 22 12:40:34 +0000 2016          1         0   \n",
      "...   ...         ...                             ...        ...       ...   \n",
      "2994  Ola     Olacabs  Sun Mar 31 11:42:26 +0000 2019          0         1   \n",
      "2995  Ola     Olacabs  Sun Mar 31 11:43:38 +0000 2019          0         1   \n",
      "2996  Ola     Olacabs  Sun Mar 31 11:44:54 +0000 2019          0         1   \n",
      "2997  Ola     Olacabs  Mon Apr 01 09:39:17 +0000 2019         88        15   \n",
      "2998  Ola     Olacabs  Mon Apr 01 18:19:13 +0000 2019         86        24   \n",
      "\n",
      "          Language                                             Client  \\\n",
      "0          English  <a href=\"http://twitter.com\" rel=\"nofollow\">Tw...   \n",
      "1          English  <a href=\"http://twitter.com\" rel=\"nofollow\">Tw...   \n",
      "2     Undetermined  <a href=\"http://twitter.com\" rel=\"nofollow\">Tw...   \n",
      "3          English  <a href=\"http://twitter.com\" rel=\"nofollow\">Tw...   \n",
      "4          English  <a href=\"http://twitter.com\" rel=\"nofollow\">Tw...   \n",
      "...            ...                                                ...   \n",
      "2994        Basque  <a href=\"http://twitter.com/download/iphone\" r...   \n",
      "2995       English  <a href=\"http://twitter.com/download/iphone\" r...   \n",
      "2996  Undetermined  <a href=\"http://twitter.com/download/iphone\" r...   \n",
      "2997       English  <a href=\"http://twitter.com/download/android\" ...   \n",
      "2998       English  <a href=\"http://twitter.com/download/android\" ...   \n",
      "\n",
      "     Tweet Type Media Type                                         Media URLs  \\\n",
      "0         Tweet        NaN                                                NaN   \n",
      "1         Reply        NaN                                                NaN   \n",
      "2         Tweet        NaN                                                NaN   \n",
      "3         Reply        NaN                                                NaN   \n",
      "4         Reply        NaN                                                NaN   \n",
      "...         ...        ...                                                ...   \n",
      "2994      Reply        GIF  https://video.twimg.com/tweet_video/D2_AcVIUcA...   \n",
      "2995      Reply        NaN                                                NaN   \n",
      "2996      Reply        GIF  https://video.twimg.com/tweet_video/D2_BAfRU8A...   \n",
      "2997      Tweet      Photo   https://pbs.twimg.com/media/D3Dt2pMUwAASHC7.jpg    \n",
      "2998      Tweet      Video  https://video.twimg.com/ext_tw_video/111278142...   \n",
      "\n",
      "      URLs  Hashtags  Mentions  Sentiment  \n",
      "0        0         1         0          1  \n",
      "1        0         0         2          0  \n",
      "2        1         1         0          0  \n",
      "3        0         0         1          1  \n",
      "4        0         0         2          0  \n",
      "...    ...       ...       ...        ...  \n",
      "2994     0         2         1          0  \n",
      "2995     0         2         1          1  \n",
      "2996     0         2         1          0  \n",
      "2997     2         1         0          1  \n",
      "2998     2         1         0          1  \n",
      "\n",
      "[2999 rows x 16 columns]\n"
     ]
    }
   ],
   "source": [
    "# Importing library\n",
    "import pandas as pd\n",
    "import nltk\n",
    "from nltk.sentiment import SentimentIntensityAnalyzer\n",
    "\n",
    "data = pd.read_csv('C:/Users/yrmda/OneDrive/Desktop/PROJECTS/Research Paper Code/Dataset/Ola_3000.csv',encoding='ISO-8859-1')\n",
    "\n",
    "# Create a DataFrame\n",
    "df = pd.DataFrame(data)\n",
    "\n",
    "# Initialize the VADER sentiment analyzer\n",
    "nltk.download('vader_lexicon')\n",
    "sid = SentimentIntensityAnalyzer()\n",
    "\n",
    "# Function to categorize sentiment using VADER\n",
    "def categorize_sentiment(text):\n",
    "    sentiment_scores = sid.polarity_scores(text)\n",
    "    \n",
    "    if sentiment_scores['compound'] >= 0.05:\n",
    "        return 1  # Positive\n",
    "    elif sentiment_scores['compound'] <= -0.05:\n",
    "        return 0  # Negative\n",
    "    else:\n",
    "        return 0  # Neutral (you can change this to 1 if you consider it positive)\n",
    "    \n",
    "# Apply sentiment categorization to the DataFrame\n",
    "df['Sentiment'] = df['Text'].apply(categorize_sentiment)\n",
    "\n",
    "# Display the categorized data\n",
    "print(df)\n"
   ]
  },
  {
   "cell_type": "code",
   "execution_count": 4,
   "metadata": {},
   "outputs": [
    {
     "data": {
      "text/html": [
       "<div>\n",
       "<style scoped>\n",
       "    .dataframe tbody tr th:only-of-type {\n",
       "        vertical-align: middle;\n",
       "    }\n",
       "\n",
       "    .dataframe tbody tr th {\n",
       "        vertical-align: top;\n",
       "    }\n",
       "\n",
       "    .dataframe thead th {\n",
       "        text-align: right;\n",
       "    }\n",
       "</style>\n",
       "<table border=\"1\" class=\"dataframe\">\n",
       "  <thead>\n",
       "    <tr style=\"text-align: right;\">\n",
       "      <th></th>\n",
       "      <th>Tweet Id</th>\n",
       "      <th>Text</th>\n",
       "      <th>Name</th>\n",
       "      <th>Screen Name</th>\n",
       "      <th>Created At</th>\n",
       "      <th>Favorites</th>\n",
       "      <th>Retweets</th>\n",
       "      <th>Language</th>\n",
       "      <th>Client</th>\n",
       "      <th>Tweet Type</th>\n",
       "      <th>Media Type</th>\n",
       "      <th>Media URLs</th>\n",
       "      <th>URLs</th>\n",
       "      <th>Hashtags</th>\n",
       "      <th>Mentions</th>\n",
       "      <th>Category</th>\n",
       "    </tr>\n",
       "  </thead>\n",
       "  <tbody>\n",
       "    <tr>\n",
       "      <th>0</th>\n",
       "      <td>756346841973854209</td>\n",
       "      <td>Thank you for sending us your CRNs and showing...</td>\n",
       "      <td>Ola</td>\n",
       "      <td>Olacabs</td>\n",
       "      <td>Fri Jul 22 04:35:14 +0000 2016</td>\n",
       "      <td>23</td>\n",
       "      <td>14</td>\n",
       "      <td>English</td>\n",
       "      <td>&lt;a href=\"http://twitter.com\" rel=\"nofollow\"&gt;Tw...</td>\n",
       "      <td>Tweet</td>\n",
       "      <td>NaN</td>\n",
       "      <td>NaN</td>\n",
       "      <td>0</td>\n",
       "      <td>1</td>\n",
       "      <td>0</td>\n",
       "      <td>1</td>\n",
       "    </tr>\n",
       "    <tr>\n",
       "      <th>1</th>\n",
       "      <td>756455385557446656</td>\n",
       "      <td>@AverageIntel @PokemonGoApp \\nWorry not, auto-...</td>\n",
       "      <td>Ola</td>\n",
       "      <td>Olacabs</td>\n",
       "      <td>Fri Jul 22 11:46:32 +0000 2016</td>\n",
       "      <td>3</td>\n",
       "      <td>0</td>\n",
       "      <td>English</td>\n",
       "      <td>&lt;a href=\"http://twitter.com\" rel=\"nofollow\"&gt;Tw...</td>\n",
       "      <td>Reply</td>\n",
       "      <td>NaN</td>\n",
       "      <td>NaN</td>\n",
       "      <td>0</td>\n",
       "      <td>0</td>\n",
       "      <td>2</td>\n",
       "      <td>0</td>\n",
       "    </tr>\n",
       "    <tr>\n",
       "      <th>2</th>\n",
       "      <td>756455843374075904</td>\n",
       "      <td>#KabaliDay https://t.co/jdQFl284qW</td>\n",
       "      <td>Ola</td>\n",
       "      <td>Olacabs</td>\n",
       "      <td>Fri Jul 22 11:48:21 +0000 2016</td>\n",
       "      <td>9</td>\n",
       "      <td>2</td>\n",
       "      <td>Undetermined</td>\n",
       "      <td>&lt;a href=\"http://twitter.com\" rel=\"nofollow\"&gt;Tw...</td>\n",
       "      <td>Tweet</td>\n",
       "      <td>NaN</td>\n",
       "      <td>NaN</td>\n",
       "      <td>1</td>\n",
       "      <td>1</td>\n",
       "      <td>0</td>\n",
       "      <td>0</td>\n",
       "    </tr>\n",
       "    <tr>\n",
       "      <th>3</th>\n",
       "      <td>756467451274027008</td>\n",
       "      <td>@suchetadalal We're in! Do let us know how we ...</td>\n",
       "      <td>Ola</td>\n",
       "      <td>Olacabs</td>\n",
       "      <td>Fri Jul 22 12:34:29 +0000 2016</td>\n",
       "      <td>0</td>\n",
       "      <td>0</td>\n",
       "      <td>English</td>\n",
       "      <td>&lt;a href=\"http://twitter.com\" rel=\"nofollow\"&gt;Tw...</td>\n",
       "      <td>Reply</td>\n",
       "      <td>NaN</td>\n",
       "      <td>NaN</td>\n",
       "      <td>0</td>\n",
       "      <td>0</td>\n",
       "      <td>1</td>\n",
       "      <td>1</td>\n",
       "    </tr>\n",
       "  </tbody>\n",
       "</table>\n",
       "</div>"
      ],
      "text/plain": [
       "             Tweet Id                                               Text Name  \\\n",
       "0  756346841973854209  Thank you for sending us your CRNs and showing...  Ola   \n",
       "1  756455385557446656  @AverageIntel @PokemonGoApp \\nWorry not, auto-...  Ola   \n",
       "2  756455843374075904                 #KabaliDay https://t.co/jdQFl284qW  Ola   \n",
       "3  756467451274027008  @suchetadalal We're in! Do let us know how we ...  Ola   \n",
       "\n",
       "  Screen Name                      Created At  Favorites  Retweets  \\\n",
       "0     Olacabs  Fri Jul 22 04:35:14 +0000 2016         23        14   \n",
       "1     Olacabs  Fri Jul 22 11:46:32 +0000 2016          3         0   \n",
       "2     Olacabs  Fri Jul 22 11:48:21 +0000 2016          9         2   \n",
       "3     Olacabs  Fri Jul 22 12:34:29 +0000 2016          0         0   \n",
       "\n",
       "       Language                                             Client Tweet Type  \\\n",
       "0       English  <a href=\"http://twitter.com\" rel=\"nofollow\">Tw...      Tweet   \n",
       "1       English  <a href=\"http://twitter.com\" rel=\"nofollow\">Tw...      Reply   \n",
       "2  Undetermined  <a href=\"http://twitter.com\" rel=\"nofollow\">Tw...      Tweet   \n",
       "3       English  <a href=\"http://twitter.com\" rel=\"nofollow\">Tw...      Reply   \n",
       "\n",
       "  Media Type Media URLs  URLs  Hashtags  Mentions  Category  \n",
       "0        NaN        NaN     0         1         0         1  \n",
       "1        NaN        NaN     0         0         2         0  \n",
       "2        NaN        NaN     1         1         0         0  \n",
       "3        NaN        NaN     0         0         1         1  "
      ]
     },
     "execution_count": 4,
     "metadata": {},
     "output_type": "execute_result"
    }
   ],
   "source": [
    "# Change the column name \n",
    "df.rename(columns={'Sentiment': 'Category'}, inplace=True)\n",
    "df.head(4)\n"
   ]
  },
  {
   "cell_type": "code",
   "execution_count": 5,
   "metadata": {},
   "outputs": [
    {
     "data": {
      "text/html": [
       "<div>\n",
       "<style scoped>\n",
       "    .dataframe tbody tr th:only-of-type {\n",
       "        vertical-align: middle;\n",
       "    }\n",
       "\n",
       "    .dataframe tbody tr th {\n",
       "        vertical-align: top;\n",
       "    }\n",
       "\n",
       "    .dataframe thead th {\n",
       "        text-align: right;\n",
       "    }\n",
       "</style>\n",
       "<table border=\"1\" class=\"dataframe\">\n",
       "  <thead>\n",
       "    <tr style=\"text-align: right;\">\n",
       "      <th></th>\n",
       "      <th>Tweets</th>\n",
       "      <th>Category</th>\n",
       "    </tr>\n",
       "  </thead>\n",
       "  <tbody>\n",
       "    <tr>\n",
       "      <th>0</th>\n",
       "      <td>Thank you for sending us your CRNs and showing...</td>\n",
       "      <td>1</td>\n",
       "    </tr>\n",
       "    <tr>\n",
       "      <th>1</th>\n",
       "      <td>@AverageIntel @PokemonGoApp \\nWorry not, auto-...</td>\n",
       "      <td>0</td>\n",
       "    </tr>\n",
       "    <tr>\n",
       "      <th>2</th>\n",
       "      <td>#KabaliDay https://t.co/jdQFl284qW</td>\n",
       "      <td>0</td>\n",
       "    </tr>\n",
       "    <tr>\n",
       "      <th>3</th>\n",
       "      <td>@suchetadalal We're in! Do let us know how we ...</td>\n",
       "      <td>1</td>\n",
       "    </tr>\n",
       "  </tbody>\n",
       "</table>\n",
       "</div>"
      ],
      "text/plain": [
       "                                              Tweets  Category\n",
       "0  Thank you for sending us your CRNs and showing...         1\n",
       "1  @AverageIntel @PokemonGoApp \\nWorry not, auto-...         0\n",
       "2                 #KabaliDay https://t.co/jdQFl284qW         0\n",
       "3  @suchetadalal We're in! Do let us know how we ...         1"
      ]
     },
     "execution_count": 5,
     "metadata": {},
     "output_type": "execute_result"
    }
   ],
   "source": [
    "df.rename(columns={'Text': 'Tweets'}, inplace=True)\n",
    "data = df[['Tweets', 'Category']]\n",
    "data.head(4) "
   ]
  },
  {
   "cell_type": "code",
   "execution_count": null,
   "metadata": {},
   "outputs": [],
   "source": [
    "data.to_csv('Clean_Ola3000.csv', index=False)"
   ]
  },
  {
   "cell_type": "code",
   "execution_count": 49,
   "metadata": {},
   "outputs": [],
   "source": [
    "# Importing Packages \n",
    "\n",
    "import numpy as np\n",
    "import pandas as pd\n",
    "import sklearn \n",
    "import matplotlib.pyplot as plt \n",
    "from sklearn.feature_extraction.text import CountVectorizer \n",
    "from sklearn.metrics import confusion_matrix \n",
    "from sklearn.model_selection import GridSearchCV\n",
    "from sklearn.model_selection import train_test_split \n",
    "from sklearn.model_selection import cross_val_score\n",
    "from sklearn.linear_model import LogisticRegression\n",
    "from sklearn.ensemble import RandomForestClassifier\n",
    "\n",
    "# Create an instance of the RandomForestClassifier\n",
    "clf = RandomForestClassifier()\n"
   ]
  },
  {
   "cell_type": "code",
   "execution_count": 18,
   "metadata": {},
   "outputs": [
    {
     "name": "stderr",
     "output_type": "stream",
     "text": [
      "C:\\Users\\yrmda\\AppData\\Local\\Temp\\ipykernel_2508\\3973370011.py:7: SettingWithCopyWarning: \n",
      "A value is trying to be set on a copy of a slice from a DataFrame.\n",
      "Try using .loc[row_indexer,col_indexer] = value instead\n",
      "\n",
      "See the caveats in the documentation: https://pandas.pydata.org/pandas-docs/stable/user_guide/indexing.html#returning-a-view-versus-a-copy\n",
      "  df_clean['clean'] = df_clean['Tweets'].astype('str')\n",
      "C:\\Users\\yrmda\\AppData\\Local\\Temp\\ipykernel_2508\\3973370011.py:10: SettingWithCopyWarning: \n",
      "A value is trying to be set on a copy of a slice from a DataFrame.\n",
      "Try using .loc[row_indexer,col_indexer] = value instead\n",
      "\n",
      "See the caveats in the documentation: https://pandas.pydata.org/pandas-docs/stable/user_guide/indexing.html#returning-a-view-versus-a-copy\n",
      "  df_clean[\"tokens\"] = df_clean[\"clean\"].apply(tokenizer.tokenize)\n"
     ]
    }
   ],
   "source": [
    "# Cleaning Text\n",
    "\n",
    "df_clean = data\n",
    "from nltk.tokenize import RegexpTokenizer\n",
    "\n",
    "tokenizer = RegexpTokenizer(r'\\w+')\n",
    "df_clean['clean'] = df_clean['Tweets'].astype('str') \n",
    "df_clean.dtypes\n",
    "\n",
    "df_clean[\"tokens\"] = df_clean[\"clean\"].apply(tokenizer.tokenize)"
   ]
  },
  {
   "cell_type": "code",
   "execution_count": 19,
   "metadata": {},
   "outputs": [
    {
     "data": {
      "text/html": [
       "<div>\n",
       "<style scoped>\n",
       "    .dataframe tbody tr th:only-of-type {\n",
       "        vertical-align: middle;\n",
       "    }\n",
       "\n",
       "    .dataframe tbody tr th {\n",
       "        vertical-align: top;\n",
       "    }\n",
       "\n",
       "    .dataframe thead th {\n",
       "        text-align: right;\n",
       "    }\n",
       "</style>\n",
       "<table border=\"1\" class=\"dataframe\">\n",
       "  <thead>\n",
       "    <tr style=\"text-align: right;\">\n",
       "      <th></th>\n",
       "      <th>Tweets</th>\n",
       "      <th>Category</th>\n",
       "      <th>clean</th>\n",
       "      <th>tokens</th>\n",
       "    </tr>\n",
       "  </thead>\n",
       "  <tbody>\n",
       "    <tr>\n",
       "      <th>0</th>\n",
       "      <td>Thank you for sending us your CRNs and showing...</td>\n",
       "      <td>1</td>\n",
       "      <td>Thank you for sending us your CRNs and showing...</td>\n",
       "      <td>[Thank, you, for, sending, us, your, CRNs, and...</td>\n",
       "    </tr>\n",
       "    <tr>\n",
       "      <th>1</th>\n",
       "      <td>@AverageIntel @PokemonGoApp \\nWorry not, auto-...</td>\n",
       "      <td>0</td>\n",
       "      <td>@AverageIntel @PokemonGoApp \\nWorry not, auto-...</td>\n",
       "      <td>[AverageIntel, PokemonGoApp, Worry, not, auto,...</td>\n",
       "    </tr>\n",
       "    <tr>\n",
       "      <th>2</th>\n",
       "      <td>#KabaliDay https://t.co/jdQFl284qW</td>\n",
       "      <td>0</td>\n",
       "      <td>#KabaliDay https://t.co/jdQFl284qW</td>\n",
       "      <td>[KabaliDay, https, t, co, jdQFl284qW]</td>\n",
       "    </tr>\n",
       "    <tr>\n",
       "      <th>3</th>\n",
       "      <td>@suchetadalal We're in! Do let us know how we ...</td>\n",
       "      <td>1</td>\n",
       "      <td>@suchetadalal We're in! Do let us know how we ...</td>\n",
       "      <td>[suchetadalal, We, re, in, Do, let, us, know, ...</td>\n",
       "    </tr>\n",
       "  </tbody>\n",
       "</table>\n",
       "</div>"
      ],
      "text/plain": [
       "                                              Tweets  Category  \\\n",
       "0  Thank you for sending us your CRNs and showing...         1   \n",
       "1  @AverageIntel @PokemonGoApp \\nWorry not, auto-...         0   \n",
       "2                 #KabaliDay https://t.co/jdQFl284qW         0   \n",
       "3  @suchetadalal We're in! Do let us know how we ...         1   \n",
       "\n",
       "                                               clean  \\\n",
       "0  Thank you for sending us your CRNs and showing...   \n",
       "1  @AverageIntel @PokemonGoApp \\nWorry not, auto-...   \n",
       "2                 #KabaliDay https://t.co/jdQFl284qW   \n",
       "3  @suchetadalal We're in! Do let us know how we ...   \n",
       "\n",
       "                                              tokens  \n",
       "0  [Thank, you, for, sending, us, your, CRNs, and...  \n",
       "1  [AverageIntel, PokemonGoApp, Worry, not, auto,...  \n",
       "2              [KabaliDay, https, t, co, jdQFl284qW]  \n",
       "3  [suchetadalal, We, re, in, Do, let, us, know, ...  "
      ]
     },
     "execution_count": 19,
     "metadata": {},
     "output_type": "execute_result"
    }
   ],
   "source": [
    "data.head(4)"
   ]
  },
  {
   "cell_type": "code",
   "execution_count": 21,
   "metadata": {},
   "outputs": [],
   "source": [
    "# Importing \n",
    "\n",
    "import gensim\n",
    "w2v_model = gensim.models.KeyedVectors.load_word2vec_format('GoogleNews-vectors-negative300.bin', binary=True)"
   ]
  },
  {
   "cell_type": "code",
   "execution_count": 22,
   "metadata": {},
   "outputs": [],
   "source": [
    "import multiprocessing\n",
    "from gensim.models import Word2Vec\n",
    "\n",
    "# WORD2VEC()\n",
    "cores = multiprocessing.cpu_count() # Count the number of cores in a computer, important for a parameter of the model\n",
    "w2v_model = Word2Vec(min_count=20,\n",
    "                     window=2,\n",
    "                     vector_size=300,  # Use 'vector_size' instead of 'size'\n",
    "                     sample=6e-5, \n",
    "                     alpha=0.03, \n",
    "                     min_alpha=0.0007, \n",
    "                     negative=20,\n",
    "                     workers=cores-1)"
   ]
  },
  {
   "cell_type": "code",
   "execution_count": 23,
   "metadata": {},
   "outputs": [
    {
     "data": {
      "text/plain": [
       "(55655534, 591400000)"
      ]
     },
     "execution_count": 23,
     "metadata": {},
     "output_type": "execute_result"
    }
   ],
   "source": [
    "# BUILD_VOCAB()\n",
    "w2v_model.build_vocab(df_clean[\"tokens\"], progress_per=1000)\n",
    "\n",
    "# TRAIN()\n",
    "w2v_model.train(df_clean[\"tokens\"], total_examples=w2v_model.corpus_count, epochs=10000, report_delay=1)\n"
   ]
  },
  {
   "cell_type": "code",
   "execution_count": 40,
   "metadata": {},
   "outputs": [],
   "source": [
    "#First defining the X (input), and the y (output)\n",
    "\n",
    "y =data['Category'].values\n",
    "X = np.array(df_clean[\"tokens\"])\n",
    "\n",
    "#And here is the train_test_split\n",
    "X_train, X_test, y_train, y_test = train_test_split(X, y, test_size = 0.2, random_state = 0)"
   ]
  },
  {
   "cell_type": "code",
   "execution_count": 41,
   "metadata": {},
   "outputs": [],
   "source": [
    "from sklearn.feature_extraction.text import TfidfVectorizer\n",
    "\n",
    "vectorizer = TfidfVectorizer(analyzer=lambda x: x, min_df=10)"
   ]
  },
  {
   "cell_type": "code",
   "execution_count": 42,
   "metadata": {},
   "outputs": [],
   "source": [
    "vectorizer = CountVectorizer()"
   ]
  },
  {
   "cell_type": "code",
   "execution_count": 43,
   "metadata": {},
   "outputs": [
    {
     "data": {
      "text/html": [
       "<style>#sk-container-id-3 {color: black;}#sk-container-id-3 pre{padding: 0;}#sk-container-id-3 div.sk-toggleable {background-color: white;}#sk-container-id-3 label.sk-toggleable__label {cursor: pointer;display: block;width: 100%;margin-bottom: 0;padding: 0.3em;box-sizing: border-box;text-align: center;}#sk-container-id-3 label.sk-toggleable__label-arrow:before {content: \"▸\";float: left;margin-right: 0.25em;color: #696969;}#sk-container-id-3 label.sk-toggleable__label-arrow:hover:before {color: black;}#sk-container-id-3 div.sk-estimator:hover label.sk-toggleable__label-arrow:before {color: black;}#sk-container-id-3 div.sk-toggleable__content {max-height: 0;max-width: 0;overflow: hidden;text-align: left;background-color: #f0f8ff;}#sk-container-id-3 div.sk-toggleable__content pre {margin: 0.2em;color: black;border-radius: 0.25em;background-color: #f0f8ff;}#sk-container-id-3 input.sk-toggleable__control:checked~div.sk-toggleable__content {max-height: 200px;max-width: 100%;overflow: auto;}#sk-container-id-3 input.sk-toggleable__control:checked~label.sk-toggleable__label-arrow:before {content: \"▾\";}#sk-container-id-3 div.sk-estimator input.sk-toggleable__control:checked~label.sk-toggleable__label {background-color: #d4ebff;}#sk-container-id-3 div.sk-label input.sk-toggleable__control:checked~label.sk-toggleable__label {background-color: #d4ebff;}#sk-container-id-3 input.sk-hidden--visually {border: 0;clip: rect(1px 1px 1px 1px);clip: rect(1px, 1px, 1px, 1px);height: 1px;margin: -1px;overflow: hidden;padding: 0;position: absolute;width: 1px;}#sk-container-id-3 div.sk-estimator {font-family: monospace;background-color: #f0f8ff;border: 1px dotted black;border-radius: 0.25em;box-sizing: border-box;margin-bottom: 0.5em;}#sk-container-id-3 div.sk-estimator:hover {background-color: #d4ebff;}#sk-container-id-3 div.sk-parallel-item::after {content: \"\";width: 100%;border-bottom: 1px solid gray;flex-grow: 1;}#sk-container-id-3 div.sk-label:hover label.sk-toggleable__label {background-color: #d4ebff;}#sk-container-id-3 div.sk-serial::before {content: \"\";position: absolute;border-left: 1px solid gray;box-sizing: border-box;top: 0;bottom: 0;left: 50%;z-index: 0;}#sk-container-id-3 div.sk-serial {display: flex;flex-direction: column;align-items: center;background-color: white;padding-right: 0.2em;padding-left: 0.2em;position: relative;}#sk-container-id-3 div.sk-item {position: relative;z-index: 1;}#sk-container-id-3 div.sk-parallel {display: flex;align-items: stretch;justify-content: center;background-color: white;position: relative;}#sk-container-id-3 div.sk-item::before, #sk-container-id-3 div.sk-parallel-item::before {content: \"\";position: absolute;border-left: 1px solid gray;box-sizing: border-box;top: 0;bottom: 0;left: 50%;z-index: -1;}#sk-container-id-3 div.sk-parallel-item {display: flex;flex-direction: column;z-index: 1;position: relative;background-color: white;}#sk-container-id-3 div.sk-parallel-item:first-child::after {align-self: flex-end;width: 50%;}#sk-container-id-3 div.sk-parallel-item:last-child::after {align-self: flex-start;width: 50%;}#sk-container-id-3 div.sk-parallel-item:only-child::after {width: 0;}#sk-container-id-3 div.sk-dashed-wrapped {border: 1px dashed gray;margin: 0 0.4em 0.5em 0.4em;box-sizing: border-box;padding-bottom: 0.4em;background-color: white;}#sk-container-id-3 div.sk-label label {font-family: monospace;font-weight: bold;display: inline-block;line-height: 1.2em;}#sk-container-id-3 div.sk-label-container {text-align: center;}#sk-container-id-3 div.sk-container {/* jupyter's `normalize.less` sets `[hidden] { display: none; }` but bootstrap.min.css set `[hidden] { display: none !important; }` so we also need the `!important` here to be able to override the default hidden behavior on the sphinx rendered scikit-learn.org. See: https://github.com/scikit-learn/scikit-learn/issues/21755 */display: inline-block !important;position: relative;}#sk-container-id-3 div.sk-text-repr-fallback {display: none;}</style><div id=\"sk-container-id-3\" class=\"sk-top-container\"><div class=\"sk-text-repr-fallback\"><pre>CountVectorizer()</pre><b>In a Jupyter environment, please rerun this cell to show the HTML representation or trust the notebook. <br />On GitHub, the HTML representation is unable to render, please try loading this page with nbviewer.org.</b></div><div class=\"sk-container\" hidden><div class=\"sk-item\"><div class=\"sk-estimator sk-toggleable\"><input class=\"sk-toggleable__control sk-hidden--visually\" id=\"sk-estimator-id-3\" type=\"checkbox\" checked><label for=\"sk-estimator-id-3\" class=\"sk-toggleable__label sk-toggleable__label-arrow\">CountVectorizer</label><div class=\"sk-toggleable__content\"><pre>CountVectorizer()</pre></div></div></div></div></div>"
      ],
      "text/plain": [
       "CountVectorizer()"
      ]
     },
     "execution_count": 43,
     "metadata": {},
     "output_type": "execute_result"
    }
   ],
   "source": [
    "vectorizer"
   ]
  },
  {
   "cell_type": "code",
   "execution_count": 44,
   "metadata": {},
   "outputs": [],
   "source": [
    "X_train_flattened = [' '.join(tokens) for tokens in X_train]\n",
    "X_test_flattened = [' '.join(tokens) for tokens in X_test]"
   ]
  },
  {
   "cell_type": "code",
   "execution_count": 45,
   "metadata": {},
   "outputs": [],
   "source": [
    "X_train = vectorizer.fit_transform(X_train_flattened)"
   ]
  },
  {
   "cell_type": "code",
   "execution_count": 46,
   "metadata": {},
   "outputs": [],
   "source": [
    "X_test = vectorizer.transform(X_test_flattened)"
   ]
  },
  {
   "cell_type": "code",
   "execution_count": 47,
   "metadata": {},
   "outputs": [
    {
     "name": "stdout",
     "output_type": "stream",
     "text": [
      "Number of features: 7469\n"
     ]
    }
   ],
   "source": [
    "feature_names = vectorizer.get_feature_names_out()\n",
    "print(\"Number of features: {}\".format(len(feature_names)))"
   ]
  },
  {
   "cell_type": "code",
   "execution_count": 50,
   "metadata": {},
   "outputs": [
    {
     "name": "stdout",
     "output_type": "stream",
     "text": [
      "Mean Cross-Validation accuracy: 0.79\n"
     ]
    }
   ],
   "source": [
    "scores = cross_val_score(RandomForestClassifier(), X_train, y_train, cv=5)\n",
    "print(\"Mean Cross-Validation accuracy: {:.2f}\".format(np.mean(scores)))"
   ]
  },
  {
   "cell_type": "code",
   "execution_count": 51,
   "metadata": {},
   "outputs": [
    {
     "name": "stdout",
     "output_type": "stream",
     "text": [
      "Training set score: 0.998\n",
      "Testing set score: 0.855\n"
     ]
    }
   ],
   "source": [
    "# Logistic Regression model\n",
    "logreg = LogisticRegression()\n",
    "logreg.fit(X_train, y_train)\n",
    "print(\"Training set score: {:.3f}\".format(logreg.score(X_train, y_train)))\n",
    "print(\"Testing set score: {:.3f}\".format(logreg.score(X_test, y_test)))"
   ]
  },
  {
   "cell_type": "code",
   "execution_count": 52,
   "metadata": {},
   "outputs": [
    {
     "name": "stdout",
     "output_type": "stream",
     "text": [
      "Confusion Matrix: \n",
      "[[132  33]\n",
      " [ 54 381]]\n"
     ]
    }
   ],
   "source": [
    "pred_logreg = logreg.predict(X_test)\n",
    "confusion = confusion_matrix(y_test, pred_logreg)\n",
    "print(\"Confusion Matrix: \\n{}\".format(confusion))"
   ]
  },
  {
   "cell_type": "code",
   "execution_count": 54,
   "metadata": {},
   "outputs": [],
   "source": [
    "# Multinomial Naive Base Model\n",
    "from sklearn.naive_bayes import MultinomialNB"
   ]
  },
  {
   "cell_type": "code",
   "execution_count": 55,
   "metadata": {},
   "outputs": [
    {
     "name": "stdout",
     "output_type": "stream",
     "text": [
      "Training set score: 0.950\n",
      "Testing set score: 0.795\n"
     ]
    }
   ],
   "source": [
    "nb = MultinomialNB()\n",
    "nb.fit(X_train, y_train)\n",
    "print(\"Training set score: {:.3f}\".format(nb.score(X_train, y_train)))\n",
    "print(\"Testing set score: {:.3f}\".format(nb.score(X_test, y_test)))"
   ]
  },
  {
   "cell_type": "code",
   "execution_count": 56,
   "metadata": {},
   "outputs": [
    {
     "name": "stdout",
     "output_type": "stream",
     "text": [
      "Confusion Matrix: \n",
      "[[ 64 101]\n",
      " [ 22 413]]\n"
     ]
    }
   ],
   "source": [
    "pred_nb = nb.predict(X_test)\n",
    "confusion = confusion_matrix(y_test, pred_nb)\n",
    "print(\"Confusion Matrix: \\n{}\".format(confusion))"
   ]
  },
  {
   "cell_type": "code",
   "execution_count": 57,
   "metadata": {},
   "outputs": [
    {
     "name": "stdout",
     "output_type": "stream",
     "text": [
      "Training set score: 1.000\n",
      "Testing set score: 0.828\n"
     ]
    }
   ],
   "source": [
    "# Random Forest Model\n",
    "rf = RandomForestClassifier(n_estimators=100, bootstrap= True, max_features = 'sqrt')\n",
    "rf.fit(X_train, y_train)\n",
    "print(\"Training set score: {:.3f}\".format(rf.score(X_train, y_train)))\n",
    "print(\"Testing set score: {:.3f}\".format(rf.score(X_test, y_test)))"
   ]
  },
  {
   "cell_type": "code",
   "execution_count": 58,
   "metadata": {},
   "outputs": [
    {
     "name": "stdout",
     "output_type": "stream",
     "text": [
      "Confusion Matrix: \n",
      "[[ 91  74]\n",
      " [ 29 406]]\n"
     ]
    }
   ],
   "source": [
    "pred_rf = rf.predict(X_test)\n",
    "confusion = confusion_matrix(y_test, pred_rf)\n",
    "print(\"Confusion Matrix: \\n{}\".format(confusion))"
   ]
  },
  {
   "cell_type": "code",
   "execution_count": 59,
   "metadata": {},
   "outputs": [],
   "source": [
    "import xgboost as xgb\n",
    "from sklearn.preprocessing import StandardScaler\n",
    "from sklearn.model_selection import train_test_split\n",
    "\n",
    "# Assuming you have your original sparse data in X_train_sparse and X_test_sparse, and labels in y_train and y_test\n",
    "# You need to perform data preprocessing and transformation before using X_train_transformed and X_test_transformed\n",
    "\n",
    "# Example preprocessing steps (you should adjust these according to your data):\n",
    "scaler = StandardScaler(with_mean=False)  # Pass with_mean=False for sparse matrices\n",
    "X_train_transformed = scaler.fit_transform(X_train)\n",
    "X_test_transformed = scaler.transform(X_test)"
   ]
  },
  {
   "cell_type": "code",
   "execution_count": 60,
   "metadata": {},
   "outputs": [
    {
     "name": "stdout",
     "output_type": "stream",
     "text": [
      "XGBoost Classifier Accuracy: 0.862\n"
     ]
    }
   ],
   "source": [
    "# Initialize the XGBoost Classifier\n",
    "xgb_classifier = xgb.XGBClassifier(n_estimators=100, random_state=0)\n",
    "\n",
    "# Fit the model on the training data\n",
    "xgb_classifier.fit(X_train_transformed, y_train)\n",
    "\n",
    "# Evaluate the model on the test data\n",
    "accuracy = xgb_classifier.score(X_test_transformed, y_test)\n",
    "print(\"XGBoost Classifier Accuracy: {:.3f}\".format(accuracy))\n"
   ]
  },
  {
   "cell_type": "code",
   "execution_count": 61,
   "metadata": {},
   "outputs": [
    {
     "name": "stdout",
     "output_type": "stream",
     "text": [
      "SVM Classifier Accuracy: 0.788\n"
     ]
    }
   ],
   "source": [
    "from sklearn.svm import SVC\n",
    "\n",
    "# Initialize the SVM Classifier\n",
    "svm_classifier = SVC(kernel='linear', C=1.0, random_state=0)\n",
    "\n",
    "# Fit the model on the training data\n",
    "svm_classifier.fit(X_train_transformed, y_train)\n",
    "\n",
    "# Evaluate the model on the test data\n",
    "accuracy = svm_classifier.score(X_test_transformed, y_test)\n",
    "print(\"SVM Classifier Accuracy: {:.3f}\".format(accuracy))"
   ]
  },
  {
   "cell_type": "code",
   "execution_count": 68,
   "metadata": {},
   "outputs": [
    {
     "name": "stdout",
     "output_type": "stream",
     "text": [
      "Accuracies: {'Logistic Regression': 0.855, 'Naive Bayes': 0.795, 'Random Forest': 0.83, 'XGBoost': 0.8616666666666667, 'SVM': 0.845}\n"
     ]
    }
   ],
   "source": [
    "# Compare the accuracy \n",
    "\n",
    "import matplotlib.pyplot as plt\n",
    "import numpy as np\n",
    "# from sklearn.linear_model import LogisticRegression\n",
    "# from sklearn.naive_bayes import MultinomialNB\n",
    "# from sklearn.ensemble import RandomForestClassifier\n",
    "from sklearn.model_selection import train_test_split\n",
    "from sklearn.preprocessing import StandardScaler\n",
    "from sklearn.metrics import accuracy_score\n",
    "# from sklearn.svm import SVC\n",
    "# import xgboost as xgb\n",
    "\n",
    "# Define classifiers\n",
    "classifiers = {\n",
    "    \"Logistic Regression\": LogisticRegression(),\n",
    "    \"Naive Bayes\": MultinomialNB(),\n",
    "    \"Random Forest\": RandomForestClassifier(n_estimators=100, bootstrap=True, max_features='sqrt'),\n",
    "    \"XGBoost\": xgb.XGBClassifier(n_estimators=100, random_state=0),\n",
    "    \"SVM\": SVC(kernel='linear', C=1.0, random_state=0)\n",
    "}\n",
    "\n",
    "accuracies = {}\n",
    "\n",
    "# Train and test each classifier, then store the accuracy\n",
    "for name, clf in classifiers.items():\n",
    "    clf.fit(X_train, y_train)\n",
    "    y_pred = clf.predict(X_test)\n",
    "    accuracy = accuracy_score(y_test, y_pred)\n",
    "    accuracies[name] = accuracy\n",
    "\n",
    "# Print accuracies or use for visualization\n",
    "print(\"Accuracies:\", accuracies)\n",
    "\n"
   ]
  },
  {
   "cell_type": "code",
   "execution_count": 71,
   "metadata": {},
   "outputs": [
    {
     "data": {
      "image/png": "[encoded data removed]",
      "text/plain": [
       "<Figure size 1000x600 with 1 Axes>"
      ]
     },
     "metadata": {},
     "output_type": "display_data"
    }
   ],
   "source": [
    "\n",
    "import matplotlib.pyplot as plt\n",
    "\n",
    "# The code for classifiers and accuracy calculation remains the same as provided in the previous response\n",
    "\n",
    "# Train and test each classifier, then store the accuracy\n",
    "for name, clf in classifiers.items():\n",
    "    clf.fit(X_train, y_train)\n",
    "    y_pred = clf.predict(X_test)\n",
    "    accuracy = accuracy_score(y_test, y_pred)\n",
    "    accuracies[name] = accuracy\n",
    "\n",
    "# Plotting the accuracies with percentage labels and different colors\n",
    "plt.figure(figsize=(10, 6))\n",
    "\n",
    "# List of colors for bars\n",
    "colors = ['skyblue', 'salmon', 'lightgreen', 'gold', 'lightcoral']\n",
    "\n",
    "bars = plt.bar(accuracies.keys(), accuracies.values(), color=colors)\n",
    "plt.title('Accuracy of Different Classifiers')\n",
    "plt.xlabel('Classifiers')\n",
    "plt.ylabel('Accuracy')\n",
    "plt.ylim(0, 1)  # Set the y-axis limit to 0-1 for accuracy\n",
    "plt.xticks(rotation=45)\n",
    "\n",
    "# Add percentage labels on each bar with two decimal points\n",
    "for bar in bars:\n",
    "    yval = bar.get_height()\n",
    "    plt.text(bar.get_x() + bar.get_width() / 2, yval, f\"{yval*100:.2f}%\", ha='center', va='bottom')\n",
    "\n",
    "plt.show()\n",
    "\n"
   ]
  },
  {
   "cell_type": "code",
   "execution_count": 73,
   "metadata": {},
   "outputs": [
    {
     "name": "stderr",
     "output_type": "stream",
     "text": [
      "C:\\Users\\yrmda\\AppData\\Local\\Temp\\ipykernel_2508\\843311641.py:17: FutureWarning: \n",
      "\n",
      "Passing `palette` without assigning `hue` is deprecated and will be removed in v0.14.0. Assign the `x` variable to `hue` and set `legend=False` for the same effect.\n",
      "\n",
      "  ax = sns.barplot(x=list(accuracies.keys()), y=list(accuracies.values()), palette='viridis')\n"
     ]
    },
    {
     "data": {
      "image/png": "[encoded data removed]",
      "text/plain": [
       "<Figure size 1000x600 with 1 Axes>"
      ]
     },
     "metadata": {},
     "output_type": "display_data"
    }
   ],
   "source": [
    "import matplotlib.pyplot as plt\n",
    "import seaborn as sns\n",
    "\n",
    "# The code for classifiers and accuracy calculation remains the same as provided in the previous responses\n",
    "\n",
    "# Train and test each classifier, then store the accuracy\n",
    "for name, clf in classifiers.items():\n",
    "    clf.fit(X_train, y_train)\n",
    "    y_pred = clf.predict(X_test)\n",
    "    accuracy = accuracy_score(y_test, y_pred)\n",
    "    accuracies[name] = accuracy\n",
    "\n",
    "# Plotting the accuracies using Seaborn\n",
    "plt.figure(figsize=(10, 6))\n",
    "\n",
    "# Create a bar plot using Seaborn\n",
    "ax = sns.barplot(x=list(accuracies.keys()), y=list(accuracies.values()), palette='viridis')\n",
    "\n",
    "plt.title('Accuracy of Different Classifiers')\n",
    "plt.xlabel('Classifiers')\n",
    "plt.ylabel('Accuracy')\n",
    "plt.ylim(0, 1)  # Set the y-axis limit to 0-1 for accuracy\n",
    "plt.xticks(rotation=45)\n",
    "\n",
    "# Show the accuracy value on each bar\n",
    "for p in ax.patches:\n",
    "    ax.annotate(f'{p.get_height()*100:.2f}%', (p.get_x() + p.get_width() / 2., p.get_height()), ha='center', va='bottom', xytext=(0, 5), textcoords='offset points')\n",
    "\n",
    "plt.show()\n"
   ]
  },
  {
   "cell_type": "code",
   "execution_count": null,
   "metadata": {},
   "outputs": [],
   "source": []
  },
  {
   "cell_type": "code",
   "execution_count": null,
   "metadata": {},
   "outputs": [],
   "source": []
  }
 ],
 "metadata": {
  "kernelspec": {
   "display_name": "Python 3",
   "language": "python",
   "name": "python3"
  },
  "language_info": {
   "codemirror_mode": {
    "name": "ipython",
    "version": 3
   },
   "file_extension": ".py",
   "mimetype": "text/x-python",
   "name": "python",
   "nbconvert_exporter": "python",
   "pygments_lexer": "ipython3",
   "version": "3.11.0"
  }
 },
 "nbformat": 4,
 "nbformat_minor": 2
}
