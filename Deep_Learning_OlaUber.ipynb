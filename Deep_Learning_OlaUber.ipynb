{
  "cells": [
    {
      "cell_type": "markdown",
      "metadata": {
        "id": "view-in-github",
        "colab_type": "text"
      },
      "source": [
        "<a href=\"https://colab.research.google.com/github/mdaamir6870/A-Review-of-Sentiment-Analysis-Techniques-for-Uber-and-Ola/blob/main/Deep_Learning_OlaUber.ipynb\" target=\"_parent\"><img src=\"https://colab.research.google.com/assets/colab-badge.svg\" alt=\"Open In Colab\"/></a>"
      ]
    },
    {
      "cell_type": "markdown",
      "metadata": {
        "id": "rXBLRTF8p0CD"
      },
      "source": [
        "# # Importing All required library"
      ]
    },
    {
      "cell_type": "code",
      "execution_count": 2,
      "metadata": {
        "id": "pUKgySpip0CI"
      },
      "outputs": [],
      "source": [
        "# Importing All required library\n",
        "from imblearn.over_sampling import SMOTE\n",
        "from sklearn.ensemble import RandomForestClassifier\n",
        "from sklearn.feature_extraction.text import TfidfVectorizer\n",
        "from sklearn.model_selection import train_test_split\n",
        "from sklearn.metrics import classification_report\n",
        "import numpy as np\n",
        "import pandas as pd\n",
        "import sklearn\n",
        "import matplotlib.pyplot as plt\n",
        "from sklearn.feature_extraction.text import CountVectorizer\n",
        "from sklearn.metrics import confusion_matrix\n",
        "from sklearn.model_selection import GridSearchCV\n",
        "from sklearn.model_selection import train_test_split\n",
        "from sklearn.model_selection import cross_val_score\n",
        "import string\n",
        "from nltk.tokenize import word_tokenize\n",
        "from nltk.corpus import stopwords\n",
        "from nltk.stem import WordNetLemmatizer\n",
        "from sklearn.feature_extraction.text import TfidfVectorizer\n",
        "from sklearn.metrics import confusion_matrix, precision_score, recall_score, f1_score, accuracy_score\n",
        "from prettytable import PrettyTable\n"
      ]
    },
    {
      "cell_type": "code",
      "source": [
        "import nltk\n",
        "nltk.download('punkt')\n",
        "nltk.download('stopwords')\n",
        "nltk.download('wordnet')"
      ],
      "metadata": {
        "colab": {
          "base_uri": "https://localhost:8080/"
        },
        "id": "7UMnlRINq8a_",
        "outputId": "198edf10-c6a0-4831-fbde-fe2764220f1d"
      },
      "execution_count": 11,
      "outputs": [
        {
          "output_type": "stream",
          "name": "stderr",
          "text": [
            "[nltk_data] Downloading package punkt to /root/nltk_data...\n",
            "[nltk_data]   Package punkt is already up-to-date!\n",
            "[nltk_data] Downloading package stopwords to /root/nltk_data...\n",
            "[nltk_data]   Package stopwords is already up-to-date!\n",
            "[nltk_data] Downloading package wordnet to /root/nltk_data...\n"
          ]
        },
        {
          "output_type": "execute_result",
          "data": {
            "text/plain": [
              "True"
            ]
          },
          "metadata": {},
          "execution_count": 11
        }
      ]
    },
    {
      "cell_type": "markdown",
      "metadata": {
        "id": "NSloGQgsp0CK"
      },
      "source": [
        "# Working with ola dataset"
      ]
    },
    {
      "cell_type": "code",
      "execution_count": 12,
      "metadata": {
        "id": "7dYYsnQFp0CK"
      },
      "outputs": [],
      "source": [
        "# Load your dataset into a DataFrame\n",
        "data = pd.read_csv(\"/content/Ola_Category_3000.csv\",encoding='ISO-8859-1') # Replace 'your_data.csv' with your file\n",
        "data.head()\n",
        "\n",
        "# Preprocessing text data\n",
        "def preprocess_text(text):\n",
        "    # Convert text to lowercase\n",
        "    text = text.lower()\n",
        "\n",
        "    # Remove punctuation\n",
        "    text = text.translate(str.maketrans('', '', string.punctuation))\n",
        "\n",
        "    # Tokenization\n",
        "    tokens = word_tokenize(text)\n",
        "    # Remove stopwords\n",
        "    stop_words = set(stopwords.words('english'))\n",
        "    tokens = [word for word in tokens if word not in stop_words]\n",
        "\n",
        "    # Lemmatization\n",
        "    lemmatizer = WordNetLemmatizer()\n",
        "    tokens = [lemmatizer.lemmatize(word) for word in tokens]\n",
        "\n",
        "    # Join tokens back into a single string\n",
        "    preprocessed_text = ' '.join(tokens)\n",
        "    return preprocessed_text\n",
        "\n",
        "# Apply preprocessing to the 'Tweets' column\n",
        "data['Tweets'] = data['Tweets'].apply(preprocess_text)\n",
        "\n"
      ]
    },
    {
      "cell_type": "code",
      "execution_count": 13,
      "metadata": {
        "colab": {
          "base_uri": "https://localhost:8080/"
        },
        "id": "GpO9Vccup0CL",
        "outputId": "7f3bea06-a9ef-484f-f4fc-bf1263d30328"
      },
      "outputs": [
        {
          "output_type": "execute_result",
          "data": {
            "text/plain": [
              "0       thank sending u crns showing u interest olasel...\n",
              "1       averageintel pokemongoapp worry autoconnect lu...\n",
              "2                            kabaliday httpstcojdqfl284qw\n",
              "3                            suchetadalal let u know help\n",
              "4                            suchetadalal moneylifef done\n",
              "                              ...                        \n",
              "2994    akashra66 leak olarestrooms nopressure httpstc...\n",
              "2995    mahalakshmi3117 wow look like thereâs leak ne...\n",
              "2996    arijit10sinha nopressure olarestrooms httpstco...\n",
              "2997    thank laughing u olarestrooms yet bit facilita...\n",
              "2998    thank laughing u olarestrooms yet bit facilita...\n",
              "Name: Tweets, Length: 2999, dtype: object"
            ]
          },
          "metadata": {},
          "execution_count": 13
        }
      ],
      "source": [
        "data['Tweets']"
      ]
    },
    {
      "cell_type": "code",
      "execution_count": 14,
      "metadata": {
        "colab": {
          "base_uri": "https://localhost:8080/"
        },
        "id": "cC-VQHNyp0CL",
        "outputId": "6740e141-e2cc-4ee3-a700-08ac0e70ee2a"
      },
      "outputs": [
        {
          "output_type": "execute_result",
          "data": {
            "text/plain": [
              "count    2999.000000\n",
              "mean        0.701901\n",
              "std         0.457500\n",
              "min         0.000000\n",
              "25%         0.000000\n",
              "50%         1.000000\n",
              "75%         1.000000\n",
              "max         1.000000\n",
              "Name: Category, dtype: float64"
            ]
          },
          "metadata": {},
          "execution_count": 14
        }
      ],
      "source": [
        "data['Category'].describe()"
      ]
    },
    {
      "cell_type": "code",
      "execution_count": 15,
      "metadata": {
        "colab": {
          "base_uri": "https://localhost:8080/",
          "height": 143
        },
        "id": "eD7yXXtWp0CM",
        "outputId": "02911c2c-e1c6-4c71-acf4-afa2b918863a"
      },
      "outputs": [
        {
          "output_type": "execute_result",
          "data": {
            "text/plain": [
              "          Tweets\n",
              "Category        \n",
              "0            894\n",
              "1           2105"
            ],
            "text/html": [
              "\n",
              "  <div id=\"df-cafef254-72ba-4308-a4bf-f29b2b18a9b4\" class=\"colab-df-container\">\n",
              "    <div>\n",
              "<style scoped>\n",
              "    .dataframe tbody tr th:only-of-type {\n",
              "        vertical-align: middle;\n",
              "    }\n",
              "\n",
              "    .dataframe tbody tr th {\n",
              "        vertical-align: top;\n",
              "    }\n",
              "\n",
              "    .dataframe thead th {\n",
              "        text-align: right;\n",
              "    }\n",
              "</style>\n",
              "<table border=\"1\" class=\"dataframe\">\n",
              "  <thead>\n",
              "    <tr style=\"text-align: right;\">\n",
              "      <th></th>\n",
              "      <th>Tweets</th>\n",
              "    </tr>\n",
              "    <tr>\n",
              "      <th>Category</th>\n",
              "      <th></th>\n",
              "    </tr>\n",
              "  </thead>\n",
              "  <tbody>\n",
              "    <tr>\n",
              "      <th>0</th>\n",
              "      <td>894</td>\n",
              "    </tr>\n",
              "    <tr>\n",
              "      <th>1</th>\n",
              "      <td>2105</td>\n",
              "    </tr>\n",
              "  </tbody>\n",
              "</table>\n",
              "</div>\n",
              "    <div class=\"colab-df-buttons\">\n",
              "\n",
              "  <div class=\"colab-df-container\">\n",
              "    <button class=\"colab-df-convert\" onclick=\"convertToInteractive('df-cafef254-72ba-4308-a4bf-f29b2b18a9b4')\"\n",
              "            title=\"Convert this dataframe to an interactive table.\"\n",
              "            style=\"display:none;\">\n",
              "\n",
              "  <svg xmlns=\"http://www.w3.org/2000/svg\" height=\"24px\" viewBox=\"0 -960 960 960\">\n",
              "    <path d=\"M120-120v-720h720v720H120Zm60-500h600v-160H180v160Zm220 220h160v-160H400v160Zm0 220h160v-160H400v160ZM180-400h160v-160H180v160Zm440 0h160v-160H620v160ZM180-180h160v-160H180v160Zm440 0h160v-160H620v160Z\"/>\n",
              "  </svg>\n",
              "    </button>\n",
              "\n",
              "  <style>\n",
              "    .colab-df-container {\n",
              "      display:flex;\n",
              "      gap: 12px;\n",
              "    }\n",
              "\n",
              "    .colab-df-convert {\n",
              "      background-color: #E8F0FE;\n",
              "      border: none;\n",
              "      border-radius: 50%;\n",
              "      cursor: pointer;\n",
              "      display: none;\n",
              "      fill: #1967D2;\n",
              "      height: 32px;\n",
              "      padding: 0 0 0 0;\n",
              "      width: 32px;\n",
              "    }\n",
              "\n",
              "    .colab-df-convert:hover {\n",
              "      background-color: #E2EBFA;\n",
              "      box-shadow: 0px 1px 2px rgba(60, 64, 67, 0.3), 0px 1px 3px 1px rgba(60, 64, 67, 0.15);\n",
              "      fill: #174EA6;\n",
              "    }\n",
              "\n",
              "    .colab-df-buttons div {\n",
              "      margin-bottom: 4px;\n",
              "    }\n",
              "\n",
              "    [theme=dark] .colab-df-convert {\n",
              "      background-color: #3B4455;\n",
              "      fill: #D2E3FC;\n",
              "    }\n",
              "\n",
              "    [theme=dark] .colab-df-convert:hover {\n",
              "      background-color: #434B5C;\n",
              "      box-shadow: 0px 1px 3px 1px rgba(0, 0, 0, 0.15);\n",
              "      filter: drop-shadow(0px 1px 2px rgba(0, 0, 0, 0.3));\n",
              "      fill: #FFFFFF;\n",
              "    }\n",
              "  </style>\n",
              "\n",
              "    <script>\n",
              "      const buttonEl =\n",
              "        document.querySelector('#df-cafef254-72ba-4308-a4bf-f29b2b18a9b4 button.colab-df-convert');\n",
              "      buttonEl.style.display =\n",
              "        google.colab.kernel.accessAllowed ? 'block' : 'none';\n",
              "\n",
              "      async function convertToInteractive(key) {\n",
              "        const element = document.querySelector('#df-cafef254-72ba-4308-a4bf-f29b2b18a9b4');\n",
              "        const dataTable =\n",
              "          await google.colab.kernel.invokeFunction('convertToInteractive',\n",
              "                                                    [key], {});\n",
              "        if (!dataTable) return;\n",
              "\n",
              "        const docLinkHtml = 'Like what you see? Visit the ' +\n",
              "          '<a target=\"_blank\" href=https://colab.research.google.com/notebooks/data_table.ipynb>data table notebook</a>'\n",
              "          + ' to learn more about interactive tables.';\n",
              "        element.innerHTML = '';\n",
              "        dataTable['output_type'] = 'display_data';\n",
              "        await google.colab.output.renderOutput(dataTable, element);\n",
              "        const docLink = document.createElement('div');\n",
              "        docLink.innerHTML = docLinkHtml;\n",
              "        element.appendChild(docLink);\n",
              "      }\n",
              "    </script>\n",
              "  </div>\n",
              "\n",
              "\n",
              "<div id=\"df-bd7ecd28-1af0-4378-94cc-e03e3a09ba4b\">\n",
              "  <button class=\"colab-df-quickchart\" onclick=\"quickchart('df-bd7ecd28-1af0-4378-94cc-e03e3a09ba4b')\"\n",
              "            title=\"Suggest charts\"\n",
              "            style=\"display:none;\">\n",
              "\n",
              "<svg xmlns=\"http://www.w3.org/2000/svg\" height=\"24px\"viewBox=\"0 0 24 24\"\n",
              "     width=\"24px\">\n",
              "    <g>\n",
              "        <path d=\"M19 3H5c-1.1 0-2 .9-2 2v14c0 1.1.9 2 2 2h14c1.1 0 2-.9 2-2V5c0-1.1-.9-2-2-2zM9 17H7v-7h2v7zm4 0h-2V7h2v10zm4 0h-2v-4h2v4z\"/>\n",
              "    </g>\n",
              "</svg>\n",
              "  </button>\n",
              "\n",
              "<style>\n",
              "  .colab-df-quickchart {\n",
              "      --bg-color: #E8F0FE;\n",
              "      --fill-color: #1967D2;\n",
              "      --hover-bg-color: #E2EBFA;\n",
              "      --hover-fill-color: #174EA6;\n",
              "      --disabled-fill-color: #AAA;\n",
              "      --disabled-bg-color: #DDD;\n",
              "  }\n",
              "\n",
              "  [theme=dark] .colab-df-quickchart {\n",
              "      --bg-color: #3B4455;\n",
              "      --fill-color: #D2E3FC;\n",
              "      --hover-bg-color: #434B5C;\n",
              "      --hover-fill-color: #FFFFFF;\n",
              "      --disabled-bg-color: #3B4455;\n",
              "      --disabled-fill-color: #666;\n",
              "  }\n",
              "\n",
              "  .colab-df-quickchart {\n",
              "    background-color: var(--bg-color);\n",
              "    border: none;\n",
              "    border-radius: 50%;\n",
              "    cursor: pointer;\n",
              "    display: none;\n",
              "    fill: var(--fill-color);\n",
              "    height: 32px;\n",
              "    padding: 0;\n",
              "    width: 32px;\n",
              "  }\n",
              "\n",
              "  .colab-df-quickchart:hover {\n",
              "    background-color: var(--hover-bg-color);\n",
              "    box-shadow: 0 1px 2px rgba(60, 64, 67, 0.3), 0 1px 3px 1px rgba(60, 64, 67, 0.15);\n",
              "    fill: var(--button-hover-fill-color);\n",
              "  }\n",
              "\n",
              "  .colab-df-quickchart-complete:disabled,\n",
              "  .colab-df-quickchart-complete:disabled:hover {\n",
              "    background-color: var(--disabled-bg-color);\n",
              "    fill: var(--disabled-fill-color);\n",
              "    box-shadow: none;\n",
              "  }\n",
              "\n",
              "  .colab-df-spinner {\n",
              "    border: 2px solid var(--fill-color);\n",
              "    border-color: transparent;\n",
              "    border-bottom-color: var(--fill-color);\n",
              "    animation:\n",
              "      spin 1s steps(1) infinite;\n",
              "  }\n",
              "\n",
              "  @keyframes spin {\n",
              "    0% {\n",
              "      border-color: transparent;\n",
              "      border-bottom-color: var(--fill-color);\n",
              "      border-left-color: var(--fill-color);\n",
              "    }\n",
              "    20% {\n",
              "      border-color: transparent;\n",
              "      border-left-color: var(--fill-color);\n",
              "      border-top-color: var(--fill-color);\n",
              "    }\n",
              "    30% {\n",
              "      border-color: transparent;\n",
              "      border-left-color: var(--fill-color);\n",
              "      border-top-color: var(--fill-color);\n",
              "      border-right-color: var(--fill-color);\n",
              "    }\n",
              "    40% {\n",
              "      border-color: transparent;\n",
              "      border-right-color: var(--fill-color);\n",
              "      border-top-color: var(--fill-color);\n",
              "    }\n",
              "    60% {\n",
              "      border-color: transparent;\n",
              "      border-right-color: var(--fill-color);\n",
              "    }\n",
              "    80% {\n",
              "      border-color: transparent;\n",
              "      border-right-color: var(--fill-color);\n",
              "      border-bottom-color: var(--fill-color);\n",
              "    }\n",
              "    90% {\n",
              "      border-color: transparent;\n",
              "      border-bottom-color: var(--fill-color);\n",
              "    }\n",
              "  }\n",
              "</style>\n",
              "\n",
              "  <script>\n",
              "    async function quickchart(key) {\n",
              "      const quickchartButtonEl =\n",
              "        document.querySelector('#' + key + ' button');\n",
              "      quickchartButtonEl.disabled = true;  // To prevent multiple clicks.\n",
              "      quickchartButtonEl.classList.add('colab-df-spinner');\n",
              "      try {\n",
              "        const charts = await google.colab.kernel.invokeFunction(\n",
              "            'suggestCharts', [key], {});\n",
              "      } catch (error) {\n",
              "        console.error('Error during call to suggestCharts:', error);\n",
              "      }\n",
              "      quickchartButtonEl.classList.remove('colab-df-spinner');\n",
              "      quickchartButtonEl.classList.add('colab-df-quickchart-complete');\n",
              "    }\n",
              "    (() => {\n",
              "      let quickchartButtonEl =\n",
              "        document.querySelector('#df-bd7ecd28-1af0-4378-94cc-e03e3a09ba4b button');\n",
              "      quickchartButtonEl.style.display =\n",
              "        google.colab.kernel.accessAllowed ? 'block' : 'none';\n",
              "    })();\n",
              "  </script>\n",
              "</div>\n",
              "    </div>\n",
              "  </div>\n"
            ]
          },
          "metadata": {},
          "execution_count": 15
        }
      ],
      "source": [
        "# we just grouped the datset based on the 'Category' feature to visualize the counts of positive and negative values\n",
        "\n",
        "f = data.groupby(\"Category\")\n",
        "f.count()"
      ]
    },
    {
      "cell_type": "code",
      "execution_count": 16,
      "metadata": {
        "id": "i-5ZwZ6Dp0CM"
      },
      "outputs": [],
      "source": [
        "# Split the dataset into features (X) and target (y)\n",
        "X_ola= data['Tweets']\n",
        "y_ola = data['Category']\n",
        "\n",
        "# Convert text data into TF-IDF vectors\n",
        "tfidf = TfidfVectorizer()\n",
        "X_ola_tfidf = tfidf.fit_transform(X_ola)"
      ]
    },
    {
      "cell_type": "code",
      "execution_count": 17,
      "metadata": {
        "colab": {
          "base_uri": "https://localhost:8080/"
        },
        "id": "uWKU8NyPp0CN",
        "outputId": "d4e80396-fc9f-44c8-ac73-5d5bace28d41"
      },
      "outputs": [
        {
          "output_type": "execute_result",
          "data": {
            "text/plain": [
              "1    2105\n",
              "0     894\n",
              "Name: Category, dtype: int64"
            ]
          },
          "metadata": {},
          "execution_count": 17
        }
      ],
      "source": [
        "# Count the class before applying SMOTE\n",
        "class_before_Bal_ola = y_ola.value_counts()\n",
        "class_before_Bal_ola"
      ]
    },
    {
      "cell_type": "code",
      "execution_count": 18,
      "metadata": {
        "id": "cTZt0LNRp0CO"
      },
      "outputs": [],
      "source": [
        "# Apply SMOTE to balance the dataset\n",
        "smote = SMOTE(random_state=42)\n",
        "X_ola_balanced, y_ola_balanced = smote.fit_resample(X_ola_tfidf, y_ola)"
      ]
    },
    {
      "cell_type": "code",
      "execution_count": 19,
      "metadata": {
        "colab": {
          "base_uri": "https://localhost:8080/"
        },
        "id": "OnJIbVzRp0CO",
        "outputId": "a454b025-0203-452b-b61e-8f8bc3de1084"
      },
      "outputs": [
        {
          "output_type": "execute_result",
          "data": {
            "text/plain": [
              "1    2105\n",
              "0    2105\n",
              "Name: Category, dtype: int64"
            ]
          },
          "metadata": {},
          "execution_count": 19
        }
      ],
      "source": [
        "# Count the class distribution after applying SMOTE\n",
        "class_after_Bal_ola = y_ola_balanced.value_counts()\n",
        "class_after_Bal_ola"
      ]
    },
    {
      "cell_type": "code",
      "execution_count": 21,
      "metadata": {
        "colab": {
          "base_uri": "https://localhost:8080/"
        },
        "id": "8-8TRu--p0CP",
        "outputId": "8d475533-1923-49b4-de2e-17cc97931eb8"
      },
      "outputs": [
        {
          "output_type": "stream",
          "name": "stdout",
          "text": [
            "Epoch 1/5\n",
            "85/85 [==============================] - 5s 38ms/step - loss: 0.6174 - accuracy: 0.7190 - val_loss: 0.3798 - val_accuracy: 0.9095\n",
            "Epoch 2/5\n",
            "85/85 [==============================] - 3s 32ms/step - loss: 0.1968 - accuracy: 0.9354 - val_loss: 0.1962 - val_accuracy: 0.9288\n",
            "Epoch 3/5\n",
            "85/85 [==============================] - 3s 36ms/step - loss: 0.0416 - accuracy: 0.9881 - val_loss: 0.1928 - val_accuracy: 0.9318\n",
            "Epoch 4/5\n",
            "85/85 [==============================] - 2s 20ms/step - loss: 0.0116 - accuracy: 0.9985 - val_loss: 0.2069 - val_accuracy: 0.9362\n",
            "Epoch 5/5\n",
            "85/85 [==============================] - 2s 20ms/step - loss: 0.0045 - accuracy: 0.9996 - val_loss: 0.2091 - val_accuracy: 0.9347\n",
            "27/27 [==============================] - 0s 5ms/step - loss: 0.2212 - accuracy: 0.9216\n",
            "Test Accuracy (FNN): 0.9216151833534241\n",
            "Epoch 1/5\n",
            "85/85 [==============================] - 118s 1s/step - loss: 0.4291 - accuracy: 0.7918 - val_loss: 0.3629 - val_accuracy: 0.8531\n",
            "Epoch 2/5\n",
            "85/85 [==============================] - 115s 1s/step - loss: 0.0730 - accuracy: 0.9796 - val_loss: 0.2533 - val_accuracy: 0.9095\n",
            "Epoch 3/5\n",
            "85/85 [==============================] - 117s 1s/step - loss: 0.0119 - accuracy: 0.9978 - val_loss: 0.2923 - val_accuracy: 0.9080\n",
            "Epoch 4/5\n",
            "85/85 [==============================] - 125s 1s/step - loss: 0.0035 - accuracy: 0.9993 - val_loss: 0.3120 - val_accuracy: 0.9125\n",
            "Epoch 5/5\n",
            "85/85 [==============================] - 118s 1s/step - loss: 0.0012 - accuracy: 1.0000 - val_loss: 0.3534 - val_accuracy: 0.8976\n",
            "27/27 [==============================] - 6s 226ms/step - loss: 0.4445 - accuracy: 0.8824\n",
            "Test Accuracy (CNN): 0.8824228048324585\n"
          ]
        }
      ],
      "source": [
        "import numpy as np\n",
        "import pandas as pd\n",
        "import tensorflow as tf\n",
        "from sklearn.model_selection import train_test_split\n",
        "from sklearn.preprocessing import LabelEncoder\n",
        "from sklearn.feature_extraction.text import TfidfVectorizer\n",
        "from tensorflow import keras\n",
        "\n",
        "# Assuming X_ola_balanced contains your features and y_ola_balanced contains your labels\n",
        "\n",
        "# Split the data into training and testing sets for Ola dataset\n",
        "X_ola_train, X_ola_test, y_ola_train, y_ola_test = train_test_split(X_ola_balanced, y_ola_balanced, test_size=0.2, random_state=42)\n",
        "\n",
        "# Encode categorical labels for Ola dataset\n",
        "le_ola = LabelEncoder()\n",
        "y_ola_train_encoded = le_ola.fit_transform(y_ola_train)\n",
        "y_ola_test_encoded = le_ola.transform(y_ola_test)\n",
        "\n",
        "# Convert scipy sparse matrices to numpy arrays for Ola dataset\n",
        "X_ola_train_np = X_ola_train.toarray()\n",
        "X_ola_test_np = X_ola_test.toarray()\n",
        "\n",
        "# Define and train Feedforward Neural Network (FNN) for Ola dataset\n",
        "model_fnn_ola = keras.Sequential([\n",
        "    keras.layers.Dense(128, activation='relu', input_shape=(X_ola_train_np.shape[1],)),\n",
        "    keras.layers.Dropout(0.5),\n",
        "    keras.layers.Dense(64, activation='relu'),\n",
        "    keras.layers.Dense(len(le_ola.classes_), activation='softmax')\n",
        "])\n",
        "model_fnn_ola.compile(optimizer='adam', loss='sparse_categorical_crossentropy', metrics=['accuracy'])\n",
        "model_fnn_ola.fit(X_ola_train_np, y_ola_train_encoded, epochs=5, batch_size=32, validation_split=0.2)\n",
        "test_loss_fnn_ola, test_acc_fnn_ola = model_fnn_ola.evaluate(X_ola_test_np, y_ola_test_encoded)\n",
        "print(f'Test Accuracy (FNN): {test_acc_fnn_ola}')  # Accuracy for FNN\n",
        "\n",
        "# Define and train Convolutional Neural Network (CNN) for Ola dataset\n",
        "model_cnn_ola = keras.Sequential([\n",
        "    keras.layers.Conv1D(64, kernel_size=3, activation='relu', input_shape=(X_ola_train_np.shape[1], 1)),\n",
        "    keras.layers.MaxPooling1D(pool_size=2),\n",
        "    keras.layers.Flatten(),\n",
        "    keras.layers.Dense(128, activation='relu'),\n",
        "    keras.layers.Dense(len(le_ola.classes_), activation='softmax')\n",
        "])\n",
        "model_cnn_ola.compile(optimizer='adam', loss='sparse_categorical_crossentropy', metrics=['accuracy'])\n",
        "model_cnn_ola.fit(X_ola_train_np.reshape(X_ola_train_np.shape[0], X_ola_train_np.shape[1], 1), y_ola_train_encoded, epochs=5, batch_size=32, validation_split=0.2)\n",
        "test_loss_cnn_ola, test_acc_cnn_ola = model_cnn_ola.evaluate(X_ola_test_np.reshape(X_ola_test_np.shape[0], X_ola_test_np.shape[1], 1), y_ola_test_encoded)\n",
        "print(f'Test Accuracy (CNN): {test_acc_cnn_ola}')  # Accuracy for CNN\n"
      ]
    },
    {
      "cell_type": "markdown",
      "metadata": {
        "id": "h9wEFJxtp0CR"
      },
      "source": [
        "# Same Process for Uber Dataset"
      ]
    },
    {
      "cell_type": "code",
      "execution_count": 23,
      "metadata": {
        "id": "ky_GeHhhp0CR"
      },
      "outputs": [],
      "source": [
        "\n",
        "# Load your dataset into a DataFrame\n",
        "data_uber = pd.read_csv('/content/Uber_Category_3000.csv',encoding='ISO-8859-1') # Replace 'your_data.csv' with your file\n",
        "data_uber.head()\n",
        "\n",
        "# Preprocessing text data\n",
        "def preprocess_text(text):\n",
        "    # Convert text to lowercase\n",
        "    text = text.lower()\n",
        "\n",
        "    # Remove punctuation\n",
        "    text = text.translate(str.maketrans('', '', string.punctuation))\n",
        "\n",
        "    # Tokenization\n",
        "    tokens = word_tokenize(text)\n",
        "    # Remove stopwords\n",
        "    stop_words = set(stopwords.words('english'))\n",
        "    tokens = [word for word in tokens if word not in stop_words]\n",
        "\n",
        "    # Lemmatization\n",
        "    lemmatizer = WordNetLemmatizer()\n",
        "    tokens = [lemmatizer.lemmatize(word) for word in tokens]\n",
        "\n",
        "    # Join tokens back into a single string\n",
        "    preprocessed_text = ' '.join(tokens)\n",
        "    return preprocessed_text\n",
        "\n",
        "# Apply preprocessing to the 'Tweets' column\n",
        "data_uber['Tweets'] = data_uber['Tweets'].apply(preprocess_text)\n",
        "\n"
      ]
    },
    {
      "cell_type": "code",
      "execution_count": 24,
      "metadata": {
        "colab": {
          "base_uri": "https://localhost:8080/",
          "height": 143
        },
        "id": "moWhuqGEp0CS",
        "outputId": "ad91e4a4-344e-4799-b1c7-fde6d679c460"
      },
      "outputs": [
        {
          "output_type": "execute_result",
          "data": {
            "text/plain": [
              "          Tweets\n",
              "Category        \n",
              "0            455\n",
              "1           2544"
            ],
            "text/html": [
              "\n",
              "  <div id=\"df-da099337-c16f-4684-980e-e7480f7efd8e\" class=\"colab-df-container\">\n",
              "    <div>\n",
              "<style scoped>\n",
              "    .dataframe tbody tr th:only-of-type {\n",
              "        vertical-align: middle;\n",
              "    }\n",
              "\n",
              "    .dataframe tbody tr th {\n",
              "        vertical-align: top;\n",
              "    }\n",
              "\n",
              "    .dataframe thead th {\n",
              "        text-align: right;\n",
              "    }\n",
              "</style>\n",
              "<table border=\"1\" class=\"dataframe\">\n",
              "  <thead>\n",
              "    <tr style=\"text-align: right;\">\n",
              "      <th></th>\n",
              "      <th>Tweets</th>\n",
              "    </tr>\n",
              "    <tr>\n",
              "      <th>Category</th>\n",
              "      <th></th>\n",
              "    </tr>\n",
              "  </thead>\n",
              "  <tbody>\n",
              "    <tr>\n",
              "      <th>0</th>\n",
              "      <td>455</td>\n",
              "    </tr>\n",
              "    <tr>\n",
              "      <th>1</th>\n",
              "      <td>2544</td>\n",
              "    </tr>\n",
              "  </tbody>\n",
              "</table>\n",
              "</div>\n",
              "    <div class=\"colab-df-buttons\">\n",
              "\n",
              "  <div class=\"colab-df-container\">\n",
              "    <button class=\"colab-df-convert\" onclick=\"convertToInteractive('df-da099337-c16f-4684-980e-e7480f7efd8e')\"\n",
              "            title=\"Convert this dataframe to an interactive table.\"\n",
              "            style=\"display:none;\">\n",
              "\n",
              "  <svg xmlns=\"http://www.w3.org/2000/svg\" height=\"24px\" viewBox=\"0 -960 960 960\">\n",
              "    <path d=\"M120-120v-720h720v720H120Zm60-500h600v-160H180v160Zm220 220h160v-160H400v160Zm0 220h160v-160H400v160ZM180-400h160v-160H180v160Zm440 0h160v-160H620v160ZM180-180h160v-160H180v160Zm440 0h160v-160H620v160Z\"/>\n",
              "  </svg>\n",
              "    </button>\n",
              "\n",
              "  <style>\n",
              "    .colab-df-container {\n",
              "      display:flex;\n",
              "      gap: 12px;\n",
              "    }\n",
              "\n",
              "    .colab-df-convert {\n",
              "      background-color: #E8F0FE;\n",
              "      border: none;\n",
              "      border-radius: 50%;\n",
              "      cursor: pointer;\n",
              "      display: none;\n",
              "      fill: #1967D2;\n",
              "      height: 32px;\n",
              "      padding: 0 0 0 0;\n",
              "      width: 32px;\n",
              "    }\n",
              "\n",
              "    .colab-df-convert:hover {\n",
              "      background-color: #E2EBFA;\n",
              "      box-shadow: 0px 1px 2px rgba(60, 64, 67, 0.3), 0px 1px 3px 1px rgba(60, 64, 67, 0.15);\n",
              "      fill: #174EA6;\n",
              "    }\n",
              "\n",
              "    .colab-df-buttons div {\n",
              "      margin-bottom: 4px;\n",
              "    }\n",
              "\n",
              "    [theme=dark] .colab-df-convert {\n",
              "      background-color: #3B4455;\n",
              "      fill: #D2E3FC;\n",
              "    }\n",
              "\n",
              "    [theme=dark] .colab-df-convert:hover {\n",
              "      background-color: #434B5C;\n",
              "      box-shadow: 0px 1px 3px 1px rgba(0, 0, 0, 0.15);\n",
              "      filter: drop-shadow(0px 1px 2px rgba(0, 0, 0, 0.3));\n",
              "      fill: #FFFFFF;\n",
              "    }\n",
              "  </style>\n",
              "\n",
              "    <script>\n",
              "      const buttonEl =\n",
              "        document.querySelector('#df-da099337-c16f-4684-980e-e7480f7efd8e button.colab-df-convert');\n",
              "      buttonEl.style.display =\n",
              "        google.colab.kernel.accessAllowed ? 'block' : 'none';\n",
              "\n",
              "      async function convertToInteractive(key) {\n",
              "        const element = document.querySelector('#df-da099337-c16f-4684-980e-e7480f7efd8e');\n",
              "        const dataTable =\n",
              "          await google.colab.kernel.invokeFunction('convertToInteractive',\n",
              "                                                    [key], {});\n",
              "        if (!dataTable) return;\n",
              "\n",
              "        const docLinkHtml = 'Like what you see? Visit the ' +\n",
              "          '<a target=\"_blank\" href=https://colab.research.google.com/notebooks/data_table.ipynb>data table notebook</a>'\n",
              "          + ' to learn more about interactive tables.';\n",
              "        element.innerHTML = '';\n",
              "        dataTable['output_type'] = 'display_data';\n",
              "        await google.colab.output.renderOutput(dataTable, element);\n",
              "        const docLink = document.createElement('div');\n",
              "        docLink.innerHTML = docLinkHtml;\n",
              "        element.appendChild(docLink);\n",
              "      }\n",
              "    </script>\n",
              "  </div>\n",
              "\n",
              "\n",
              "<div id=\"df-80a685c8-4c1b-4f0c-9c38-0b9798022b24\">\n",
              "  <button class=\"colab-df-quickchart\" onclick=\"quickchart('df-80a685c8-4c1b-4f0c-9c38-0b9798022b24')\"\n",
              "            title=\"Suggest charts\"\n",
              "            style=\"display:none;\">\n",
              "\n",
              "<svg xmlns=\"http://www.w3.org/2000/svg\" height=\"24px\"viewBox=\"0 0 24 24\"\n",
              "     width=\"24px\">\n",
              "    <g>\n",
              "        <path d=\"M19 3H5c-1.1 0-2 .9-2 2v14c0 1.1.9 2 2 2h14c1.1 0 2-.9 2-2V5c0-1.1-.9-2-2-2zM9 17H7v-7h2v7zm4 0h-2V7h2v10zm4 0h-2v-4h2v4z\"/>\n",
              "    </g>\n",
              "</svg>\n",
              "  </button>\n",
              "\n",
              "<style>\n",
              "  .colab-df-quickchart {\n",
              "      --bg-color: #E8F0FE;\n",
              "      --fill-color: #1967D2;\n",
              "      --hover-bg-color: #E2EBFA;\n",
              "      --hover-fill-color: #174EA6;\n",
              "      --disabled-fill-color: #AAA;\n",
              "      --disabled-bg-color: #DDD;\n",
              "  }\n",
              "\n",
              "  [theme=dark] .colab-df-quickchart {\n",
              "      --bg-color: #3B4455;\n",
              "      --fill-color: #D2E3FC;\n",
              "      --hover-bg-color: #434B5C;\n",
              "      --hover-fill-color: #FFFFFF;\n",
              "      --disabled-bg-color: #3B4455;\n",
              "      --disabled-fill-color: #666;\n",
              "  }\n",
              "\n",
              "  .colab-df-quickchart {\n",
              "    background-color: var(--bg-color);\n",
              "    border: none;\n",
              "    border-radius: 50%;\n",
              "    cursor: pointer;\n",
              "    display: none;\n",
              "    fill: var(--fill-color);\n",
              "    height: 32px;\n",
              "    padding: 0;\n",
              "    width: 32px;\n",
              "  }\n",
              "\n",
              "  .colab-df-quickchart:hover {\n",
              "    background-color: var(--hover-bg-color);\n",
              "    box-shadow: 0 1px 2px rgba(60, 64, 67, 0.3), 0 1px 3px 1px rgba(60, 64, 67, 0.15);\n",
              "    fill: var(--button-hover-fill-color);\n",
              "  }\n",
              "\n",
              "  .colab-df-quickchart-complete:disabled,\n",
              "  .colab-df-quickchart-complete:disabled:hover {\n",
              "    background-color: var(--disabled-bg-color);\n",
              "    fill: var(--disabled-fill-color);\n",
              "    box-shadow: none;\n",
              "  }\n",
              "\n",
              "  .colab-df-spinner {\n",
              "    border: 2px solid var(--fill-color);\n",
              "    border-color: transparent;\n",
              "    border-bottom-color: var(--fill-color);\n",
              "    animation:\n",
              "      spin 1s steps(1) infinite;\n",
              "  }\n",
              "\n",
              "  @keyframes spin {\n",
              "    0% {\n",
              "      border-color: transparent;\n",
              "      border-bottom-color: var(--fill-color);\n",
              "      border-left-color: var(--fill-color);\n",
              "    }\n",
              "    20% {\n",
              "      border-color: transparent;\n",
              "      border-left-color: var(--fill-color);\n",
              "      border-top-color: var(--fill-color);\n",
              "    }\n",
              "    30% {\n",
              "      border-color: transparent;\n",
              "      border-left-color: var(--fill-color);\n",
              "      border-top-color: var(--fill-color);\n",
              "      border-right-color: var(--fill-color);\n",
              "    }\n",
              "    40% {\n",
              "      border-color: transparent;\n",
              "      border-right-color: var(--fill-color);\n",
              "      border-top-color: var(--fill-color);\n",
              "    }\n",
              "    60% {\n",
              "      border-color: transparent;\n",
              "      border-right-color: var(--fill-color);\n",
              "    }\n",
              "    80% {\n",
              "      border-color: transparent;\n",
              "      border-right-color: var(--fill-color);\n",
              "      border-bottom-color: var(--fill-color);\n",
              "    }\n",
              "    90% {\n",
              "      border-color: transparent;\n",
              "      border-bottom-color: var(--fill-color);\n",
              "    }\n",
              "  }\n",
              "</style>\n",
              "\n",
              "  <script>\n",
              "    async function quickchart(key) {\n",
              "      const quickchartButtonEl =\n",
              "        document.querySelector('#' + key + ' button');\n",
              "      quickchartButtonEl.disabled = true;  // To prevent multiple clicks.\n",
              "      quickchartButtonEl.classList.add('colab-df-spinner');\n",
              "      try {\n",
              "        const charts = await google.colab.kernel.invokeFunction(\n",
              "            'suggestCharts', [key], {});\n",
              "      } catch (error) {\n",
              "        console.error('Error during call to suggestCharts:', error);\n",
              "      }\n",
              "      quickchartButtonEl.classList.remove('colab-df-spinner');\n",
              "      quickchartButtonEl.classList.add('colab-df-quickchart-complete');\n",
              "    }\n",
              "    (() => {\n",
              "      let quickchartButtonEl =\n",
              "        document.querySelector('#df-80a685c8-4c1b-4f0c-9c38-0b9798022b24 button');\n",
              "      quickchartButtonEl.style.display =\n",
              "        google.colab.kernel.accessAllowed ? 'block' : 'none';\n",
              "    })();\n",
              "  </script>\n",
              "</div>\n",
              "    </div>\n",
              "  </div>\n"
            ]
          },
          "metadata": {},
          "execution_count": 24
        }
      ],
      "source": [
        "# we just grouped the datset based on the 'Category' feature to visualize the counts of positive and negative values\n",
        "\n",
        "f = data_uber.groupby(\"Category\")\n",
        "f.count()"
      ]
    },
    {
      "cell_type": "code",
      "execution_count": 25,
      "metadata": {
        "id": "VVxROaEqp0CS"
      },
      "outputs": [],
      "source": [
        "# Split the dataset into features (X) and target (y)\n",
        "X_uber = data_uber['Tweets']\n",
        "y_uber = data_uber['Category']\n",
        "\n",
        "# Convert text data into TF-IDF vectors\n",
        "tfidf = TfidfVectorizer()\n",
        "X_uber_tfidf = tfidf.fit_transform(X_uber)"
      ]
    },
    {
      "cell_type": "code",
      "execution_count": 26,
      "metadata": {
        "colab": {
          "base_uri": "https://localhost:8080/"
        },
        "id": "pM5NK7mAp0CT",
        "outputId": "65d1a85b-0cce-44fd-f880-871128fb5a2d"
      },
      "outputs": [
        {
          "output_type": "execute_result",
          "data": {
            "text/plain": [
              "1    2544\n",
              "0     455\n",
              "Name: Category, dtype: int64"
            ]
          },
          "metadata": {},
          "execution_count": 26
        }
      ],
      "source": [
        "# Count the class before applying SMOTE\n",
        "class_before_Bal_uber = y_uber.value_counts()\n",
        "class_before_Bal_uber"
      ]
    },
    {
      "cell_type": "code",
      "execution_count": 27,
      "metadata": {
        "id": "avNUpTcjp0CT"
      },
      "outputs": [],
      "source": [
        "# Apply SMOTE to balance the dataset\n",
        "smote = SMOTE(random_state=42)\n",
        "X_uber_balanced, y_uber_balanced = smote.fit_resample(X_uber_tfidf, y_uber)"
      ]
    },
    {
      "cell_type": "code",
      "execution_count": 28,
      "metadata": {
        "colab": {
          "base_uri": "https://localhost:8080/"
        },
        "id": "cFZ_MVUQp0CU",
        "outputId": "60cf418e-b007-4e17-925a-a931c13d4276"
      },
      "outputs": [
        {
          "output_type": "execute_result",
          "data": {
            "text/plain": [
              "1    2544\n",
              "0    2544\n",
              "Name: Category, dtype: int64"
            ]
          },
          "metadata": {},
          "execution_count": 28
        }
      ],
      "source": [
        "# Count the class distribution after applying SMOTE\n",
        "class_after_Bal_uber = y_uber_balanced.value_counts()\n",
        "class_after_Bal_uber"
      ]
    },
    {
      "cell_type": "code",
      "execution_count": 29,
      "metadata": {
        "colab": {
          "base_uri": "https://localhost:8080/",
          "height": 529
        },
        "id": "7-8L1AIyp0CU",
        "outputId": "f0b080fa-e329-4040-bd3f-6455c805931e"
      },
      "outputs": [
        {
          "output_type": "display_data",
          "data": {
            "text/plain": [
              "<Figure size 1000x600 with 2 Axes>"
            ],
            "image/png": "[encoded data removed]"
          },
          "metadata": {}
        }
      ],
      "source": [
        "import matplotlib.pyplot as plt\n",
        "import seaborn as sns\n",
        "\n",
        "# Assuming class_before_Bal, class_after_Bal, class_before_Bal_uber, and class_after_Bal_uber are Pandas Series\n",
        "\n",
        "# Set up the figure\n",
        "plt.figure(figsize=(10, 6))\n",
        "\n",
        "# Combine class_before_Bal and class_after_Bal for Ola\n",
        "ola_data = pd.DataFrame({\n",
        "    'Class': class_before_Bal_ola.index,\n",
        "    'Before SMOTE': class_before_Bal_ola.values,\n",
        "    'After SMOTE': class_after_Bal_ola.values\n",
        "})\n",
        "\n",
        "# Combine class_before_Bal_uber and class_after_Bal_uber for Uber\n",
        "uber_data = pd.DataFrame({\n",
        "    'Class': class_before_Bal_uber.index,\n",
        "    'Before SMOTE': class_before_Bal_uber.values,\n",
        "    'After SMOTE': class_after_Bal_uber.values\n",
        "})\n",
        "\n",
        "# Ola - Class Distribution Before and After SMOTE (Grouped Bar Plot)\n",
        "plt.subplot(1, 2, 1)\n",
        "sns.barplot(x='Class', y='value', hue='variable', data=pd.melt(ola_data, id_vars='Class'), palette=['#66b3ff', '#99ff99'])\n",
        "plt.title('Ola - Class Distribution Before and After SMOTE')\n",
        "\n",
        "# Uber - Class Distribution Before and After SMOTE (Grouped Bar Plot)\n",
        "plt.subplot(1, 2, 2)\n",
        "sns.barplot(x='Class', y='value', hue='variable', data=pd.melt(uber_data, id_vars='Class'), palette=['#66b3ff', '#99ff99'])\n",
        "plt.title('Uber - Class Distribution Before and After SMOTE')\n",
        "\n",
        "# Adjust layout for better spacing\n",
        "plt.tight_layout()\n",
        "\n",
        "# Save the plot as an image or display it\n",
        "# plt.savefig('grouped_bar_class_distribution.png')\n",
        "plt.show()\n"
      ]
    },
    {
      "cell_type": "code",
      "execution_count": null,
      "metadata": {
        "id": "tpL3aDhCp0CU"
      },
      "outputs": [],
      "source": [
        "# import numpy as np\n",
        "# import tensorflow as tf\n",
        "# from tensorflow import keras\n",
        "# from sklearn.model_selection import train_test_split\n",
        "# from sklearn.preprocessing import LabelEncoder\n",
        "# from sklearn.metrics import accuracy_score, classification_report\n",
        "# from sklearn.feature_extraction.text import TfidfVectorizer"
      ]
    },
    {
      "cell_type": "code",
      "execution_count": 30,
      "metadata": {
        "id": "aTIbPwx9p0CV"
      },
      "outputs": [],
      "source": [
        "# Split the data into training and testing sets\n",
        "X_train, X_test, y_train, y_test = train_test_split(X_uber_balanced, y_uber_balanced, test_size=0.2, random_state=42)\n",
        "\n",
        "\n"
      ]
    },
    {
      "cell_type": "code",
      "execution_count": 31,
      "metadata": {
        "colab": {
          "base_uri": "https://localhost:8080/"
        },
        "id": "CLeCqNQQp0CV",
        "outputId": "f686e57a-d589-4fbb-e99b-96e650cd6132"
      },
      "outputs": [
        {
          "output_type": "stream",
          "name": "stdout",
          "text": [
            "Epoch 1/5\n",
            "102/102 [==============================] - 2s 9ms/step - loss: 0.4451 - accuracy: 0.8400 - val_loss: 0.1364 - val_accuracy: 0.9681\n",
            "Epoch 2/5\n",
            "102/102 [==============================] - 1s 8ms/step - loss: 0.0925 - accuracy: 0.9721 - val_loss: 0.0703 - val_accuracy: 0.9742\n",
            "Epoch 3/5\n",
            "102/102 [==============================] - 1s 12ms/step - loss: 0.0350 - accuracy: 0.9899 - val_loss: 0.0450 - val_accuracy: 0.9816\n",
            "Epoch 4/5\n",
            "102/102 [==============================] - 1s 12ms/step - loss: 0.0177 - accuracy: 0.9957 - val_loss: 0.0387 - val_accuracy: 0.9828\n",
            "Epoch 5/5\n",
            "102/102 [==============================] - 1s 12ms/step - loss: 0.0081 - accuracy: 0.9991 - val_loss: 0.0391 - val_accuracy: 0.9853\n",
            "32/32 [==============================] - 0s 4ms/step - loss: 0.0369 - accuracy: 0.9882\n",
            "Test Accuracy (FNN): 0.9882121682167053\n",
            "Epoch 1/5\n",
            "102/102 [==============================] - 28s 261ms/step - loss: 0.2518 - accuracy: 0.9060 - val_loss: 0.1058 - val_accuracy: 0.9668\n",
            "Epoch 2/5\n",
            "102/102 [==============================] - 23s 223ms/step - loss: 0.0538 - accuracy: 0.9825 - val_loss: 0.0818 - val_accuracy: 0.9717\n",
            "Epoch 3/5\n",
            "102/102 [==============================] - 23s 226ms/step - loss: 0.0200 - accuracy: 0.9945 - val_loss: 0.0824 - val_accuracy: 0.9717\n",
            "Epoch 4/5\n",
            "102/102 [==============================] - 25s 245ms/step - loss: 0.0086 - accuracy: 0.9982 - val_loss: 0.0777 - val_accuracy: 0.9779\n",
            "Epoch 5/5\n",
            "102/102 [==============================] - 24s 232ms/step - loss: 0.0050 - accuracy: 0.9988 - val_loss: 0.0768 - val_accuracy: 0.9803\n",
            "32/32 [==============================] - 1s 36ms/step - loss: 0.1121 - accuracy: 0.9656\n",
            "Test Accuracy (CNN): 0.9656188488006592\n",
            "\n",
            "Test Accuracies:\n",
            "FNN: 0.9882121682167053\n",
            "CNN: 0.9656188488006592\n"
          ]
        }
      ],
      "source": [
        "# Encode categorical labels\n",
        "le = LabelEncoder()\n",
        "y_train_encoded = le.fit_transform(y_train)\n",
        "y_test_encoded = le.transform(y_test)\n",
        "\n",
        "# Convert scipy sparse matrices to numpy arrays\n",
        "X_train_np = X_train.toarray()\n",
        "X_test_np = X_test.toarray()\n",
        "\n",
        "# Define and train Feedforward Neural Network (FNN)\n",
        "model_fnn = keras.Sequential([\n",
        "    keras.layers.Dense(128, activation='relu', input_shape=(X_train_np.shape[1],)),\n",
        "    keras.layers.Dropout(0.5),\n",
        "    keras.layers.Dense(64, activation='relu'),\n",
        "    keras.layers.Dense(len(le.classes_), activation='softmax')\n",
        "])\n",
        "model_fnn.compile(optimizer='adam', loss='sparse_categorical_crossentropy', metrics=['accuracy'])\n",
        "model_fnn.fit(X_train_np, y_train_encoded, epochs=5, batch_size=32, validation_split=0.2)\n",
        "test_loss_fnn, test_acc_fnn = model_fnn.evaluate(X_test_np, y_test_encoded)\n",
        "print(f'Test Accuracy (FNN): {test_acc_fnn}')  # Accuracy for FNN\n",
        "\n",
        "# Define and train Convolutional Neural Network (CNN)\n",
        "model_cnn = keras.Sequential([\n",
        "    keras.layers.Conv1D(64, kernel_size=3, activation='relu', input_shape=(X_train_np.shape[1], 1)),\n",
        "    keras.layers.MaxPooling1D(pool_size=2),\n",
        "    keras.layers.Flatten(),\n",
        "    keras.layers.Dense(128, activation='relu'),\n",
        "    keras.layers.Dense(len(le.classes_), activation='softmax')\n",
        "])\n",
        "model_cnn.compile(optimizer='adam', loss='sparse_categorical_crossentropy', metrics=['accuracy'])\n",
        "model_cnn.fit(X_train_np, y_train_encoded, epochs=5, batch_size=32, validation_split=0.2)\n",
        "test_loss_cnn, test_acc_cnn = model_cnn.evaluate(X_test_np, y_test_encoded)\n",
        "print(f'Test Accuracy (CNN): {test_acc_cnn}')  # Accuracy for CNN\n",
        "\n",
        "# Print test accuracies for all models\n",
        "print(\"\\nTest Accuracies:\")\n",
        "print(f\"FNN: {test_acc_fnn}\")\n",
        "print(f\"CNN: {test_acc_cnn}\")\n",
        "\n"
      ]
    },
    {
      "cell_type": "code",
      "execution_count": null,
      "metadata": {
        "id": "BZQVo_n4p0CW"
      },
      "outputs": [],
      "source": []
    },
    {
      "cell_type": "code",
      "execution_count": null,
      "metadata": {
        "id": "-tFVix8Hp0CW"
      },
      "outputs": [],
      "source": []
    },
    {
      "cell_type": "code",
      "execution_count": null,
      "metadata": {
        "id": "RUrwhsJgp0CX"
      },
      "outputs": [],
      "source": []
    },
    {
      "cell_type": "code",
      "execution_count": null,
      "metadata": {
        "id": "JmRR-jEop0CX"
      },
      "outputs": [],
      "source": []
    }
  ],
  "metadata": {
    "kernelspec": {
      "display_name": "Python 3",
      "name": "python3"
    },
    "language_info": {
      "codemirror_mode": {
        "name": "ipython",
        "version": 3
      },
      "file_extension": ".py",
      "mimetype": "text/x-python",
      "name": "python",
      "nbconvert_exporter": "python",
      "pygments_lexer": "ipython3",
      "version": "3.11.0"
    },
    "colab": {
      "provenance": [],
      "include_colab_link": true
    },
    "accelerator": "TPU"
  },
  "nbformat": 4,
  "nbformat_minor": 0
}